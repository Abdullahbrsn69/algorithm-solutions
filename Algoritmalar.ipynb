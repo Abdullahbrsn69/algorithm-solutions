{
  "nbformat": 4,
  "nbformat_minor": 0,
  "metadata": {
    "colab": {
      "provenance": []
    },
    "kernelspec": {
      "name": "python3",
      "display_name": "Python 3"
    },
    "language_info": {
      "name": "python"
    }
  },
  "cells": [
    {
      "cell_type": "code",
      "source": [
        "from google.colab import drive\n",
        "drive.mount('/content/drive')"
      ],
      "metadata": {
        "colab": {
          "base_uri": "https://localhost:8080/"
        },
        "id": "eXsvWXOrI5Lj",
        "outputId": "625660fa-97c3-4740-f2d4-9e3853e06dd0"
      },
      "execution_count": null,
      "outputs": [
        {
          "output_type": "stream",
          "name": "stdout",
          "text": [
            "Mounted at /content/drive\n"
          ]
        }
      ]
    },
    {
      "cell_type": "code",
      "source": [
        "!cp Algoritmalar.ipynb /content/drive/Colab_Notebooks"
      ],
      "metadata": {
        "colab": {
          "base_uri": "https://localhost:8080/"
        },
        "id": "yK1uJSp9JitQ",
        "outputId": "548bec29-5291-4a6f-edf1-fb36e81d10bd"
      },
      "execution_count": null,
      "outputs": [
        {
          "output_type": "stream",
          "name": "stdout",
          "text": [
            "cp: cannot stat 'Algoritmalar.ipynb': No such file or directory\n"
          ]
        }
      ]
    },
    {
      "cell_type": "code",
      "execution_count": null,
      "metadata": {
        "colab": {
          "base_uri": "https://localhost:8080/"
        },
        "id": "X8utHlmjoEzI",
        "outputId": "7a94eede-e96f-4332-d348-4359de03739b"
      },
      "outputs": [
        {
          "output_type": "execute_result",
          "data": {
            "text/plain": [
              "33"
            ]
          },
          "metadata": {},
          "execution_count": 2
        }
      ],
      "source": [
        "# Bir listede en büyük sayıyı bulma\n",
        "def find_max(list):\n",
        "  max_num = list[0]\n",
        "  for num in list:\n",
        "    if num > max_num:\n",
        "      max_num = num\n",
        "  return max_num\n",
        "find_max([1,5,7,9,33,5,2])"
      ]
    },
    {
      "cell_type": "code",
      "source": [
        "# Bir listede tekrar eden sayıyı bulma\n",
        "def find_duplicates(list):\n",
        "  seen = set()\n",
        "  duplicates = set()\n",
        "\n",
        "  for num in list:\n",
        "    if num in seen:\n",
        "      duplicates.add(num)\n",
        "    else:\n",
        "      seen.add(num)\n",
        "  return duplicates\n",
        "find_duplicates([5,6,8,8,6,2,3])"
      ],
      "metadata": {
        "colab": {
          "base_uri": "https://localhost:8080/"
        },
        "id": "vcbSpzamo9ni",
        "outputId": "765f6730-da7c-4afd-aa6b-932ffb999fc0"
      },
      "execution_count": null,
      "outputs": [
        {
          "output_type": "execute_result",
          "data": {
            "text/plain": [
              "{6, 8}"
            ]
          },
          "metadata": {},
          "execution_count": 8
        }
      ]
    },
    {
      "cell_type": "code",
      "source": [
        "# Görev: Listede ilk tekrarlayan elemanı bulma\n",
        "'''\n",
        "1. Listeyi tek tek dolaş.\n",
        "2. Her elemanı bir set() içinde kontrol et. Eğer eleman set içinde varsa il tekrar edendir.\n",
        "3. Eğer eleman set içinde yoksa, içine aktar.\n",
        "'''\n",
        "def first_dup(lst):\n",
        "    seen = set()\n",
        "    for num in lst:\n",
        "        if num in seen:\n",
        "            return num\n",
        "        seen.add(num)\n",
        "    return None\n",
        "first_dup([1,23,5,23])"
      ],
      "metadata": {
        "colab": {
          "base_uri": "https://localhost:8080/"
        },
        "id": "TKTw4psJr9HF",
        "outputId": "80922563-8873-434d-ccf0-7d0add10e022"
      },
      "execution_count": null,
      "outputs": [
        {
          "output_type": "execute_result",
          "data": {
            "text/plain": [
              "23"
            ]
          },
          "metadata": {},
          "execution_count": 11
        }
      ]
    },
    {
      "cell_type": "code",
      "source": [
        "# Listedeki en küçük sayıyı bulma\n",
        "# 1.min sayı belirle ve list[0] ata, 2.listeyi dolaş, 3.karşılaştır, 4. sonucu döndür\n",
        "def find_min_number(list):\n",
        "  min_num = list[0]\n",
        "\n",
        "  for num in list[1:]:\n",
        "    if num < min_num:\n",
        "      min_num = num\n",
        "  return min_num\n",
        "find_min_number([7, 2, 5, 1, 3])"
      ],
      "metadata": {
        "id": "5JXM044L1UN0",
        "colab": {
          "base_uri": "https://localhost:8080/"
        },
        "outputId": "818fbf19-98f8-49ae-d210-a9a4a87561a4"
      },
      "execution_count": null,
      "outputs": [
        {
          "output_type": "execute_result",
          "data": {
            "text/plain": [
              "1"
            ]
          },
          "metadata": {},
          "execution_count": 8
        }
      ]
    },
    {
      "cell_type": "code",
      "source": [
        "# Bir listenin tersini bulma. Geçici olmayan yöntem.\n",
        "def mirror_list(list):\n",
        "  new_list = []\n",
        "  new_list = list[::-1]\n",
        "  return new_list\n",
        "mirror_list([1,2,3,4,5])"
      ],
      "metadata": {
        "colab": {
          "base_uri": "https://localhost:8080/"
        },
        "id": "1kbLPCYQosFr",
        "outputId": "2650b371-b726-47f0-f4c2-488e1b1a35ae"
      },
      "execution_count": null,
      "outputs": [
        {
          "output_type": "execute_result",
          "data": {
            "text/plain": [
              "[5, 4, 3, 2, 1]"
            ]
          },
          "metadata": {},
          "execution_count": 13
        }
      ]
    },
    {
      "cell_type": "code",
      "source": [
        "# Bir listede toplamları belirli bir değere eşit olan iki sayıyı bulun.\n",
        "# Örneğin, [10, 20, 10, 40, 50, 60, 70] listesinde, toplamı 50 olan iki sayıyı bulun (örneğin, 10 ve 40).\n",
        "def random_sum(list):\n",
        "  target = 50\n",
        "  num1 = None\n",
        "  num2 = None\n",
        "\n",
        "  for i in range(len(list)):\n",
        "    for j in range(i-1, len(list)):\n",
        "      if list[i] + list[j] == target:\n",
        "        num1 = list[i]\n",
        "        num2 = list[j]\n",
        "        return num1, num2\n",
        "random_sum([0, 20, 10, 40, 50, 60, 70])"
      ],
      "metadata": {
        "colab": {
          "base_uri": "https://localhost:8080/"
        },
        "id": "WSkgUBfGvC8c",
        "outputId": "746e7ae6-b3ab-432b-b50d-a48f66851598"
      },
      "execution_count": null,
      "outputs": [
        {
          "output_type": "execute_result",
          "data": {
            "text/plain": [
              "(0, 50)"
            ]
          },
          "metadata": {},
          "execution_count": 17
        }
      ]
    },
    {
      "cell_type": "code",
      "source": [
        "# Kelimedeki sesli harfleri bulma\n",
        "\"\"\"\n",
        "1. Sesli harfleri listede tanımla. 2. kelimede sesli harfler var mı bak. 3. varsa o harfleri bir listeye aktar. 4. listeyi döndür\n",
        "\"\"\"\n",
        "def vowels_letter(word):\n",
        "  letters = []\n",
        "  vowels_letters = [\"a\",\"e\",\"I\",\"o\",\"u\",\"i\"]\n",
        "\n",
        "  for i in vowels_letters:\n",
        "    for j in word:\n",
        "      if i == j:\n",
        "        letters.append(j)\n",
        "  return letters\n",
        "\n",
        "vowels_letter(\"veribilimikursualdim\")"
      ],
      "metadata": {
        "colab": {
          "base_uri": "https://localhost:8080/"
        },
        "id": "_z6fpfY2xS5w",
        "outputId": "11bae0f4-808b-47ce-d848-c652cdfebe1b"
      },
      "execution_count": null,
      "outputs": [
        {
          "output_type": "execute_result",
          "data": {
            "text/plain": [
              "['a', 'e', 'u', 'u', 'i', 'i', 'i', 'i', 'i']"
            ]
          },
          "metadata": {},
          "execution_count": 26
        }
      ]
    },
    {
      "cell_type": "code",
      "source": [
        "# Faktoriyel hesapla\n",
        "def factorial(num):\n",
        "  result = 1\n",
        "  for i in range(1, num + 1):\n",
        "    result *= i\n",
        "  return result\n",
        "factorial(5)"
      ],
      "metadata": {
        "colab": {
          "base_uri": "https://localhost:8080/"
        },
        "id": "VpExYr3l6Wpd",
        "outputId": "822d76d4-82c8-4aab-99d8-a6cb69452835"
      },
      "execution_count": null,
      "outputs": [
        {
          "output_type": "execute_result",
          "data": {
            "text/plain": [
              "120"
            ]
          },
          "metadata": {},
          "execution_count": 34
        }
      ]
    },
    {
      "cell_type": "code",
      "source": [
        "def is_palindrom(word):\n",
        "  mirror_word = word[::-1]\n",
        "  if mirror_word == word:\n",
        "    print(\"{} palindromdur.\".format(word))\n",
        "  else:\n",
        "    print(\"{} palindrom değildir.\".format(word))\n",
        "is_palindrom(\"level\")"
      ],
      "metadata": {
        "id": "_Ws6SsszAeat",
        "colab": {
          "base_uri": "https://localhost:8080/"
        },
        "outputId": "467f4eeb-6707-45ac-d610-d490b7682310"
      },
      "execution_count": null,
      "outputs": [
        {
          "output_type": "stream",
          "name": "stdout",
          "text": [
            "level palindromdur.\n"
          ]
        }
      ]
    },
    {
      "cell_type": "code",
      "source": [
        "# 0 dan n-1 e kadar sayıların karesi\n",
        "def squaring(n):\n",
        "  first_n = 0\n",
        "  for i in range(first_n, n):\n",
        "    result = i**i\n",
        "    print(result)\n",
        "squaring(4)"
      ],
      "metadata": {
        "colab": {
          "base_uri": "https://localhost:8080/"
        },
        "id": "LD4qJSaBThSn",
        "outputId": "e6eebf32-ee1b-4694-f8b3-ee5d75796f3c"
      },
      "execution_count": null,
      "outputs": [
        {
          "output_type": "stream",
          "name": "stdout",
          "text": [
            "1\n",
            "1\n",
            "4\n",
            "27\n"
          ]
        }
      ]
    },
    {
      "cell_type": "code",
      "source": [
        "# iki kişinin puan listelerini karşılaştırma. 1. oyuncu puan [1,2,3], 2. oyuncu puan [3,2,1]. ilk sayılarda 1. oyuncu kazanıyor.\n",
        "# ikinci puanlarda berabere (0) puan, 3. oyunda 1. oyuncu kaznıyor. Toplam puanlar output:[1,1]\n",
        "def two_point(list1, list2):\n",
        "    list1_points = 0\n",
        "    list2_points = 0\n",
        "\n",
        "    for i in range(len(list1)):\n",
        "        if list1[i] > list2[i]:\n",
        "            list1_points += 1\n",
        "        elif list2[i] > list1[i]:\n",
        "            list2_points += 1\n",
        "\n",
        "    return list1_points, list2_points\n",
        "\n",
        "# Örnek kullanım:\n",
        "print(two_point([1,2,3],[3,2,1]))  # Çıktı: (1, 1)"
      ],
      "metadata": {
        "colab": {
          "base_uri": "https://localhost:8080/"
        },
        "id": "HzX5zjqFXOb9",
        "outputId": "4701539e-0b98-43a3-e996-c7530558454d"
      },
      "execution_count": null,
      "outputs": [
        {
          "output_type": "stream",
          "name": "stdout",
          "text": [
            "(1, 1)\n"
          ]
        }
      ]
    },
    {
      "cell_type": "code",
      "source": [
        "# Matrisin köşegenlerinin toplamından elemanların farkını bulma. Cevap: 0\n",
        "import numpy as np\n",
        "\n",
        "def Matrix_substraction(matrix):\n",
        "  matris = np.array(matrix)\n",
        "  result =  (matris[0,0] + matris[2,2]) - (matris[0,2] + matris[2,0])\n",
        "  return result\n",
        "Matrix_substraction([[1,2,3],\n",
        "                     [4,5,6],\n",
        "                     [7,8,9]])"
      ],
      "metadata": {
        "colab": {
          "base_uri": "https://localhost:8080/"
        },
        "id": "dYf9h2lMhvsg",
        "outputId": "405783ea-0384-48cc-e36a-b171a91bc89a"
      },
      "execution_count": null,
      "outputs": [
        {
          "output_type": "stream",
          "name": "stdout",
          "text": [
            "0\n"
          ]
        }
      ]
    },
    {
      "cell_type": "code",
      "source": [
        "# HackerRank Dükkan-Müşteri sorusu:\n",
        "from collections import Counter\n",
        "\n",
        "def Shoe_Shop(shoe_sizes, customer_requests):\n",
        "  inventory = Counter(shoe_sizes)\n",
        "  total_earnings = 0\n",
        "\n",
        "  for size, price in customer_requests:\n",
        "    if size in inventory:\n",
        "      total_earnings += price\n",
        "      inventory[size] -= 1\n",
        "  return total_earnings\n",
        "\n",
        "shoe_sizes = [39, 39, 40, 41, 39, 42]\n",
        "customer_requests = [(39, 100), (40, 150), (39, 200)]\n",
        "Shoe_Shop(shoe_sizes, customer_requests)"
      ],
      "metadata": {
        "colab": {
          "base_uri": "https://localhost:8080/"
        },
        "id": "2TBR75X_r8af",
        "outputId": "157c88ed-9253-4f48-bf84-56c1718948b4"
      },
      "execution_count": null,
      "outputs": [
        {
          "output_type": "execute_result",
          "data": {
            "text/plain": [
              "450"
            ]
          },
          "metadata": {},
          "execution_count": 30
        }
      ]
    },
    {
      "cell_type": "code",
      "source": [
        "# Listedeki en küçük ve en büyük sayıları ekrana yazdır.\n",
        "def min_and_max(list):\n",
        "  min_num = max_num = list[0]\n",
        "\n",
        "  for i in list:\n",
        "    if min_num > i:\n",
        "      min_num = i\n",
        "    elif i > max_num:\n",
        "      max_num = i\n",
        "  return min_num, max_num\n",
        "min_and_max([1,2,3,4,5,6])"
      ],
      "metadata": {
        "id": "yzE_wk2s8CCj",
        "colab": {
          "base_uri": "https://localhost:8080/"
        },
        "outputId": "abc3c22b-9a63-483d-c137-61e144e2f73e"
      },
      "execution_count": null,
      "outputs": [
        {
          "output_type": "execute_result",
          "data": {
            "text/plain": [
              "(1, 6)"
            ]
          },
          "metadata": {},
          "execution_count": 2
        }
      ]
    },
    {
      "cell_type": "code",
      "source": [
        "# hedef sayının listede ne kadar tekrarlandığını bulma\n",
        "def iterat_num(list, target):\n",
        "  count = 0\n",
        "  for i in list:\n",
        "    if i == target:\n",
        "      count += 1\n",
        "  return count\n",
        "iterat_num([1,2,2,2,3,4,5], 2)"
      ],
      "metadata": {
        "colab": {
          "base_uri": "https://localhost:8080/"
        },
        "id": "FRzooAVsewBx",
        "outputId": "66c649bf-dc6b-4cf7-c2f7-ba02887ed4c4"
      },
      "execution_count": null,
      "outputs": [
        {
          "output_type": "execute_result",
          "data": {
            "text/plain": [
              "3"
            ]
          },
          "metadata": {},
          "execution_count": 3
        }
      ]
    },
    {
      "cell_type": "code",
      "source": [
        "# hedef sayı olmadan listedeki tekrar eden sayıyı bulma\n",
        "def find_repeated_elements(list):\n",
        "  element_counts = {} # elemanları ve tekrar edenleri tutmak için\n",
        "\n",
        "  for elem in list:\n",
        "    if elem in element_counts:\n",
        "      element_counts[elem] += 1\n",
        "    else:\n",
        "      element_counts[elem] = 1\n",
        "\n",
        "  repeated_elements = {key: value for key, value in element_counts.items() if value > 1}\n",
        "  return repeated_elements\n",
        "\n",
        "find_repeated_elements([1, 2, 2, 3, 3, 3, 4, 5, 5, 5, 5])"
      ],
      "metadata": {
        "colab": {
          "base_uri": "https://localhost:8080/"
        },
        "id": "Vn0kX9oVmG4W",
        "outputId": "fe3c45a4-74d0-4d8a-de13-2142b97ba80c"
      },
      "execution_count": null,
      "outputs": [
        {
          "output_type": "execute_result",
          "data": {
            "text/plain": [
              "{2: 2, 3: 3, 5: 4}"
            ]
          },
          "metadata": {},
          "execution_count": 4
        }
      ]
    },
    {
      "cell_type": "code",
      "source": [
        "# Array deki en uzun kelimeyi bulacağız\n",
        "def most_lenght_word(list):\n",
        "  most_wrd = list[0]\n",
        "  for i in list:\n",
        "    for j in i:\n",
        "      if j > most_wrd:\n",
        "        most_wrd = j\n",
        "  return most_wrd\n",
        "most_lenght_word([\"abdullahbaşaran\", \"ali\"])"
      ],
      "metadata": {
        "colab": {
          "base_uri": "https://localhost:8080/",
          "height": 36
        },
        "id": "xxUTbhoTq1xr",
        "outputId": "03ae9e28-1417-4466-beac-49c2322dd127"
      },
      "execution_count": null,
      "outputs": [
        {
          "output_type": "execute_result",
          "data": {
            "text/plain": [
              "'ş'"
            ],
            "application/vnd.google.colaboratory.intrinsic+json": {
              "type": "string"
            }
          },
          "metadata": {},
          "execution_count": 9
        }
      ]
    },
    {
      "cell_type": "code",
      "source": [
        "def fibonacci(lst):\n",
        "  fib = map(lambda x: x+(x-1), lst)\n",
        "  return list(fib)\n",
        "fibonacci([1,2,3,4,5])"
      ],
      "metadata": {
        "id": "Ss4V7BKGssrx",
        "colab": {
          "base_uri": "https://localhost:8080/"
        },
        "outputId": "1c41bbe3-64b2-48c0-8ecd-2af37004e22d"
      },
      "execution_count": null,
      "outputs": [
        {
          "output_type": "execute_result",
          "data": {
            "text/plain": [
              "[1, 3, 5, 7, 9]"
            ]
          },
          "metadata": {},
          "execution_count": 3
        }
      ]
    },
    {
      "cell_type": "code",
      "source": [
        "# Küçük hafleri büyük harfe çevirme\n",
        "def from_small_to_large(x):\n",
        "  word_append = []\n",
        "  x_string = str(x)\n",
        "  for i in x_string:\n",
        "    i = i.upper()\n",
        "    word_append.append(i)\n",
        "  return \"\".join(word_append)\n",
        "\n",
        "from_small_to_large(\"abdullah\")"
      ],
      "metadata": {
        "colab": {
          "base_uri": "https://localhost:8080/",
          "height": 35
        },
        "id": "4v0DiOhvXK5k",
        "outputId": "dae97bd9-12c9-46ae-b4db-4aa2e5600f21"
      },
      "execution_count": null,
      "outputs": [
        {
          "output_type": "execute_result",
          "data": {
            "text/plain": [
              "'ABDULLAH'"
            ],
            "application/vnd.google.colaboratory.intrinsic+json": {
              "type": "string"
            }
          },
          "metadata": {},
          "execution_count": 12
        }
      ]
    },
    {
      "cell_type": "code",
      "source": [
        "# Kelimenin karakterlerini alfabetik sıralama\n",
        "def alfabetic_sort(word):\n",
        "  alf_sort = lambda word: \"\".join(sorted(word))\n",
        "  return alf_sort(word)\n",
        "alfabetic_sort(\"abdullah\")"
      ],
      "metadata": {
        "colab": {
          "base_uri": "https://localhost:8080/",
          "height": 35
        },
        "id": "w1HoGGmXZDEg",
        "outputId": "6e355198-c74a-4d8b-d3e5-2d586a728811"
      },
      "execution_count": null,
      "outputs": [
        {
          "output_type": "execute_result",
          "data": {
            "text/plain": [
              "'aabdhllu'"
            ],
            "application/vnd.google.colaboratory.intrinsic+json": {
              "type": "string"
            }
          },
          "metadata": {},
          "execution_count": 22
        }
      ]
    },
    {
      "cell_type": "code",
      "source": [
        "# sayı listesindeki ilk ve son elemanı bul\n",
        "def first_and_last(list):\n",
        "    a,b = list[0], list[-1]\n",
        "    return a,b\n",
        "first_and_last([1,2,3,4])"
      ],
      "metadata": {
        "colab": {
          "base_uri": "https://localhost:8080/"
        },
        "id": "sFNZM-8bd21o",
        "outputId": "9f4f38fc-8a1a-452d-bb99-f4e6ca018ac5"
      },
      "execution_count": null,
      "outputs": [
        {
          "output_type": "execute_result",
          "data": {
            "text/plain": [
              "(1, 4)"
            ]
          },
          "metadata": {},
          "execution_count": 25
        }
      ]
    },
    {
      "cell_type": "code",
      "source": [
        "# Tam sayının basamak sayısı\n",
        "def counter_of_step(num):\n",
        "  if num < 0:\n",
        "    num = abs(num)\n",
        "  num_str = str(num)\n",
        "  return len(num_str)\n",
        "counter_of_step(132456)"
      ],
      "metadata": {
        "colab": {
          "base_uri": "https://localhost:8080/"
        },
        "id": "c4cSVVTHgzLT",
        "outputId": "829a9814-367a-4f64-8687-82f83987463c"
      },
      "execution_count": null,
      "outputs": [
        {
          "output_type": "execute_result",
          "data": {
            "text/plain": [
              "6"
            ]
          },
          "metadata": {},
          "execution_count": 44
        }
      ]
    },
    {
      "cell_type": "code",
      "source": [
        "# Kaç tane sesli harf var\n",
        "def count_of_vowels_letters(word):\n",
        "  vowels_letter = [\"a\",\"e\",\"i\",\"o\",\"u\"]\n",
        "  word = str(word)\n",
        "  lower_word = word.lower()\n",
        "  vowels_count = 0\n",
        "  for i in vowels_letter:\n",
        "    if i in lower_word:\n",
        "      vowels_count += lower_word.count(i)\n",
        "  return vowels_count\n",
        "count_of_vowels_letters(\"abdullah\")"
      ],
      "metadata": {
        "colab": {
          "base_uri": "https://localhost:8080/"
        },
        "id": "iefye6upsvyp",
        "outputId": "a5bd0e42-b8fb-4f7e-f0b0-3ed625523ab4"
      },
      "execution_count": null,
      "outputs": [
        {
          "output_type": "execute_result",
          "data": {
            "text/plain": [
              "3"
            ]
          },
          "metadata": {},
          "execution_count": 48
        }
      ]
    },
    {
      "cell_type": "code",
      "source": [
        "# Ortak elemanları bulma\n",
        "def common_element(list1, list2):\n",
        "  common_el = []\n",
        "  for i in list1:\n",
        "    for j in list2:\n",
        "      if i == j:\n",
        "        common_el.append(i)\n",
        "  return common_el\n",
        "common_element([1,2,3,4],[1,2,5,6])"
      ],
      "metadata": {
        "colab": {
          "base_uri": "https://localhost:8080/"
        },
        "id": "XEGrb7n43unb",
        "outputId": "0d920b3e-39f1-4af1-c4fa-e275eb18ca80"
      },
      "execution_count": null,
      "outputs": [
        {
          "output_type": "execute_result",
          "data": {
            "text/plain": [
              "[1, 2]"
            ]
          },
          "metadata": {},
          "execution_count": 9
        }
      ]
    },
    {
      "cell_type": "code",
      "source": [
        "# Kaç tane pozitif, kaç tane negatif sayı var.\n",
        "def pztve_and_ngtve(list):\n",
        "  negative_counter = []\n",
        "  pozitive_counter = []\n",
        "\n",
        "  for i in list:\n",
        "    i = str(i)\n",
        "    if i > \"0\":\n",
        "      pozitive_counter.append(i)\n",
        "    elif i == \"0\":\n",
        "      return None\n",
        "    else:\n",
        "      negative_counter.append(i)\n",
        "  return negative_counter, pozitive_counter\n",
        "pztve_and_ngtve([-1,-2,-3,4,5,6])"
      ],
      "metadata": {
        "colab": {
          "base_uri": "https://localhost:8080/"
        },
        "id": "WYgBfWSt3urK",
        "outputId": "886acfba-de70-480c-a339-b5f6c7fa7f3c"
      },
      "execution_count": null,
      "outputs": [
        {
          "output_type": "execute_result",
          "data": {
            "text/plain": [
              "(['-1', '-2', '-3'], ['4', '5', '6'])"
            ]
          },
          "metadata": {},
          "execution_count": 14
        }
      ]
    },
    {
      "cell_type": "code",
      "source": [
        "# Ardışık elemanların toplamı\n",
        "def censecutive_element(lst):\n",
        "  total_list = []\n",
        "\n",
        "  for i in range(len(lst)-1):\n",
        "    total = lst[i] + lst[i+1]\n",
        "    total_list.append(total)\n",
        "  return total_list\n",
        "censecutive_element([1,2,3,10,12])"
      ],
      "metadata": {
        "colab": {
          "base_uri": "https://localhost:8080/"
        },
        "id": "Wmq_QG4N3uvr",
        "outputId": "fdb5e7e2-f45d-4fde-a41c-e96d9722b3aa"
      },
      "execution_count": null,
      "outputs": [
        {
          "output_type": "execute_result",
          "data": {
            "text/plain": [
              "[3, 5, 13, 22]"
            ]
          },
          "metadata": {},
          "execution_count": 33
        }
      ]
    },
    {
      "cell_type": "code",
      "source": [
        "# Dizede ilk 'a' harfinin bul ve konumunu döndür.\n",
        "def index_of_a(lst):\n",
        "  selected_a = []\n",
        "  a = lst.index(\"a\")\n",
        "  selected_a.append(a)\n",
        "  return selected_a\n",
        "index_of_a([\"b\",\"c\",\"a\"])\n"
      ],
      "metadata": {
        "colab": {
          "base_uri": "https://localhost:8080/"
        },
        "id": "JRVZdlwz3u0a",
        "outputId": "7cb9c724-8e89-4a81-8e66-be69ab23cf6c"
      },
      "execution_count": null,
      "outputs": [
        {
          "output_type": "execute_result",
          "data": {
            "text/plain": [
              "[2]"
            ]
          },
          "metadata": {},
          "execution_count": 29
        }
      ]
    },
    {
      "cell_type": "code",
      "source": [
        "# Bütün a harflerinin indexlerini ver\n",
        "def index_of_a(lst):\n",
        "  selected_a = []\n",
        "  for index, value in enumerate(lst):\n",
        "    if value == \"a\":\n",
        "      selected_a.append(index)\n",
        "  return selected_a\n",
        "index_of_a([\"a\", \"b\", \"c\" ,\"a\"])"
      ],
      "metadata": {
        "colab": {
          "base_uri": "https://localhost:8080/"
        },
        "id": "qNpYqPZg3u3g",
        "outputId": "e0319ff1-b266-4138-9a9d-7304f00d97fc"
      },
      "execution_count": null,
      "outputs": [
        {
          "output_type": "execute_result",
          "data": {
            "text/plain": [
              "[0, 3]"
            ]
          },
          "metadata": {},
          "execution_count": 30
        }
      ]
    },
    {
      "cell_type": "code",
      "source": [
        "# leetcode two sum sorusu  ENUMERATE() bir listedeki hem numaraları hem de indeksleri getirir.\n",
        "def two_sum(nums, target):\n",
        "  num_map = {}\n",
        "  for i,num in enumerate(nums):\n",
        "    complement = target - num\n",
        "    if complement in num_map:\n",
        "      return [num_map[complement], i] # Tamamlayıcının indeksi ve mevcut elemanın indeksi\n",
        "    num_map[num] = i # Bu işlem, her bir sayıyı o sayının dizideki indeksine \"eşitliyor\". Yani, o sayının hangi indeks numarasında olduğunu hatırlamak için bu veriyi (hash map)'e kaydediyoruz.\n",
        "  return None\n",
        "two_sum([1,2,3,9,7], 5)"
      ],
      "metadata": {
        "id": "Tid4TPchIPTF",
        "colab": {
          "base_uri": "https://localhost:8080/"
        },
        "outputId": "bc96f41a-bf52-48cd-f753-ab6b4c17702f"
      },
      "execution_count": null,
      "outputs": [
        {
          "output_type": "execute_result",
          "data": {
            "text/plain": [
              "[1, 2]"
            ]
          },
          "metadata": {},
          "execution_count": 1
        }
      ]
    },
    {
      "cell_type": "code",
      "source": [
        "# Listede her sayı iki defa tekrar ediyor ama ben tek olanı bulmaya çalışıyorum\n",
        "def single_num(lst):\n",
        "  result = 0\n",
        "  for num in lst:\n",
        "    result ^= num # XOR işlemi ile tüm sayıları işle. XOR işlemi aynı iki sayıyı xorladığında 0 yapar. ÖRN: a ^ a = 0. Dolayısıyla Geriye sadece 4 kalır.\n",
        "  return result\n",
        "single_num([4, 1, 2, 1, 2])"
      ],
      "metadata": {
        "id": "j0CObFtejU3A",
        "colab": {
          "base_uri": "https://localhost:8080/"
        },
        "outputId": "47d417d7-bf60-4553-c209-40d01eb52265"
      },
      "execution_count": null,
      "outputs": [
        {
          "output_type": "execute_result",
          "data": {
            "text/plain": [
              "4"
            ]
          },
          "metadata": {},
          "execution_count": 10
        }
      ]
    },
    {
      "cell_type": "code",
      "source": [
        "def unigue_elem(lst):\n",
        "  single_nums = set()\n",
        "  result = 0\n",
        "  for num in lst:\n",
        "    single_nums.add(num)\n",
        "  return single_nums\n",
        "unigue_elem([1,1,2,2,5,2])"
      ],
      "metadata": {
        "id": "crAzpbJijU6z",
        "colab": {
          "base_uri": "https://localhost:8080/"
        },
        "outputId": "b0b99ccc-f08e-43eb-fe43-7fe429a81663"
      },
      "execution_count": null,
      "outputs": [
        {
          "output_type": "execute_result",
          "data": {
            "text/plain": [
              "{1, 2, 5}"
            ]
          },
          "metadata": {},
          "execution_count": 13
        }
      ]
    },
    {
      "cell_type": "code",
      "source": [
        "# Listede elemanlar tekrar ediyor mu?\n",
        "def is_iterate_of_element(lst):\n",
        "  is_iterat = False\n",
        "  for elem in lst:\n",
        "    if lst.count(elem) > 1:\n",
        "      is_iterat = True\n",
        "    return is_iterat\n",
        "is_iterate_of_element([1,2,3,1,2,3]) # True"
      ],
      "metadata": {
        "id": "l6eRQnKSnCJa",
        "colab": {
          "base_uri": "https://localhost:8080/"
        },
        "outputId": "eda694e2-a69e-463d-b939-f8d89833ac13"
      },
      "execution_count": null,
      "outputs": [
        {
          "output_type": "execute_result",
          "data": {
            "text/plain": [
              "True"
            ]
          },
          "metadata": {},
          "execution_count": 5
        }
      ]
    },
    {
      "cell_type": "code",
      "source": [
        "# Ardışık en uzun tek sayılar dizisini bulan algoritma\n",
        "def consecutive(lst):\n",
        "  mevcut_sıra = []\n",
        "  en_uzun_sıra = []\n",
        "  for i in lst:\n",
        "    if i % 2 != 0:\n",
        "      mevcut_sıra.append(i)\n",
        "    else:\n",
        "      if len(mevcut_sıra) > len(en_uzun_sıra):\n",
        "        en_uzun_sıra = mevcut_sıra\n",
        "        mevcut_sıra = []\n",
        "\n",
        "  if len(mevcut_sıra) > len(en_uzun_sıra):\n",
        "    en_uzun_sıra = mevcut_sıra\n",
        "  return en_uzun_sıra\n",
        "\n",
        "consecutive([1,2,3,5,7,9,10])\n"
      ],
      "metadata": {
        "colab": {
          "base_uri": "https://localhost:8080/"
        },
        "id": "XiPru-UEnDVR",
        "outputId": "8b30ab9c-baba-4f96-fcd1-ddc69b8bc20c"
      },
      "execution_count": null,
      "outputs": [
        {
          "output_type": "execute_result",
          "data": {
            "text/plain": [
              "[3, 5, 7, 9]"
            ]
          },
          "metadata": {},
          "execution_count": 7
        }
      ]
    },
    {
      "cell_type": "code",
      "source": [
        "# Bir diziyi k kadar sağa döndürme. k dönüş sayısı\n",
        "def turn_right(lst, k):\n",
        "  k = k % len(lst)\n",
        "  first_part = lst[:-k]\n",
        "  second_part = lst[-k:]\n",
        "  return second_part + first_part\n",
        "\n",
        "turn_right([1,2,3,4,5], 2)"
      ],
      "metadata": {
        "colab": {
          "base_uri": "https://localhost:8080/"
        },
        "id": "hNxcLVn7nDYc",
        "outputId": "983bbc5e-56ed-4758-8e7e-8b3bba7aa139"
      },
      "execution_count": null,
      "outputs": [
        {
          "output_type": "execute_result",
          "data": {
            "text/plain": [
              "[4, 5, 1, 2, 3]"
            ]
          },
          "metadata": {},
          "execution_count": 9
        }
      ]
    },
    {
      "cell_type": "code",
      "source": [
        "# Tekrar! -> listenin içindeki en küçük ve büyük elemanları bulma\n",
        "def min_and_max(lst):\n",
        "  min = lst[0]\n",
        "  max = lst[0]\n",
        "  for i in lst:\n",
        "    if i < min:\n",
        "      min = i\n",
        "    if i > max:\n",
        "      max=i\n",
        "  return max, min\n",
        "min_and_max([1,1,5,3,6,6,50])"
      ],
      "metadata": {
        "id": "MvuD7_9PnDcE"
      },
      "execution_count": null,
      "outputs": []
    },
    {
      "cell_type": "code",
      "source": [
        "# Liste içinde sadece 1 kere geçen elemanları döndür\n",
        "def once_elem(lst):\n",
        "  once = []\n",
        "  for i in lst:\n",
        "    if lst.count(i) == 1:\n",
        "      once.append(i)\n",
        "  return once\n",
        "once_elem([1,1,2,2,3,4])"
      ],
      "metadata": {
        "id": "QicOm9SDnDft",
        "colab": {
          "base_uri": "https://localhost:8080/"
        },
        "outputId": "f2bfeaf6-b841-4ae2-a837-29b0703483c3"
      },
      "execution_count": null,
      "outputs": [
        {
          "output_type": "execute_result",
          "data": {
            "text/plain": [
              "[3, 4]"
            ]
          },
          "metadata": {},
          "execution_count": 16
        }
      ]
    },
    {
      "cell_type": "code",
      "source": [
        "# Yukarıdakinin daha iyi versiyonu\n",
        "def once_elem(lst):\n",
        "    # Elemanların kaç kez geçtiğini saymak için bir sözlük kullanıyoruz\n",
        "    count_dict = {}\n",
        "\n",
        "    for i in lst:\n",
        "        if i in count_dict:\n",
        "            count_dict[i] += 1\n",
        "        else:\n",
        "            count_dict[i] = 1\n",
        "\n",
        "    # Sadece bir kez geçen elemanları topluyoruz\n",
        "    once = [key for key, value in count_dict.items() if value == 1]\n",
        "\n",
        "    return once\n",
        "\n",
        "print(once_elem([1, 1, 2, 2, 3, 4]))"
      ],
      "metadata": {
        "id": "qDiZjzu1nDi7",
        "colab": {
          "base_uri": "https://localhost:8080/"
        },
        "outputId": "93ad78bd-047d-4409-9c87-940afb109160"
      },
      "execution_count": null,
      "outputs": [
        {
          "output_type": "stream",
          "name": "stdout",
          "text": [
            "[3, 4]\n"
          ]
        }
      ]
    },
    {
      "cell_type": "code",
      "source": [
        "# listede negatif ve pozitif sayıları ayrı ayrı sayan ve demetle döndüren yapı\n",
        "def pozitive_and_negative(lst):\n",
        "  pozitive_nums = 0\n",
        "  negative_nums = 0\n",
        "\n",
        "  for i in lst:\n",
        "    if i >= 0:\n",
        "      pozitive_nums += 1\n",
        "    else:\n",
        "      negative_nums += 1\n",
        "\n",
        "  return pozitive_nums, negative_nums\n",
        "\n",
        "pozitive_and_negative([-1,-2,3,4])"
      ],
      "metadata": {
        "colab": {
          "base_uri": "https://localhost:8080/"
        },
        "id": "SjyuQczTTErx",
        "outputId": "80d5eba2-4666-4ffa-d0f7-dd37ab0e2108"
      },
      "execution_count": null,
      "outputs": [
        {
          "output_type": "execute_result",
          "data": {
            "text/plain": [
              "(2, 2)"
            ]
          },
          "metadata": {},
          "execution_count": 6
        }
      ]
    },
    {
      "cell_type": "code",
      "source": [
        "# 2 array in ortak elemanlarını bulma\n",
        "def common_elem(arr1,arr2):\n",
        "  set1 = set(arr1)\n",
        "  set2 = set(arr2)\n",
        "\n",
        "  common_elements = set1.intersection(set2) # veya set1 & set2 olarak bulurum.\n",
        "\n",
        "  return list(common_elements)\n",
        "\n",
        "common_elem([1,2,3,4],[3,4,5,6])"
      ],
      "metadata": {
        "id": "cgXd2YSHTEwT",
        "colab": {
          "base_uri": "https://localhost:8080/"
        },
        "outputId": "97beb40f-bf85-4d38-b532-bf85fe93363c"
      },
      "execution_count": null,
      "outputs": [
        {
          "output_type": "execute_result",
          "data": {
            "text/plain": [
              "[3, 4]"
            ]
          },
          "metadata": {},
          "execution_count": 9
        }
      ]
    },
    {
      "cell_type": "code",
      "source": [
        "# Array in karesi alınıp sıralanmış hali\n",
        "def squared_and_sorted(arr):\n",
        "  lst_of_sqrt = []\n",
        "  for i in arr:\n",
        "    sqrted = i ** 2\n",
        "    lst_of_sqrt.append(sqrted)\n",
        "  return sorted(lst_of_sqrt)\n",
        "squared_and_sorted([2,1,4,3])"
      ],
      "metadata": {
        "id": "ioTkuImrTE0V",
        "colab": {
          "base_uri": "https://localhost:8080/"
        },
        "outputId": "42841f1d-2327-43cb-eb2b-d397f6671549"
      },
      "execution_count": null,
      "outputs": [
        {
          "output_type": "execute_result",
          "data": {
            "text/plain": [
              "[1, 4, 9, 16]"
            ]
          },
          "metadata": {},
          "execution_count": 21
        }
      ]
    },
    {
      "cell_type": "code",
      "source": [
        "def en_uzun_pozitif_alt_dizi(arr):\n",
        "    en_uzun = []\n",
        "    su_an_ki_dizi = []\n",
        "\n",
        "    for sayi in arr:\n",
        "        if sayi > 0:\n",
        "            su_an_ki_dizi.append(sayi)\n",
        "        else:\n",
        "            if len(su_an_ki_dizi) > len(en_uzun):\n",
        "                en_uzun = su_an_ki_dizi\n",
        "            su_an_ki_dizi = []\n",
        "\n",
        "    # Son alt diziyi kontrol et\n",
        "    if len(su_an_ki_dizi) > len(en_uzun):\n",
        "        en_uzun = su_an_ki_dizi\n",
        "\n",
        "    return en_uzun\n",
        "\n",
        "# Örnek kullanım\n",
        "arr = [1, 2, -3, 4, 5, 6, -2, 7, 8]\n",
        "sonuc = en_uzun_pozitif_alt_dizi(arr)\n",
        "print(\"En uzun pozitif alt dizi:\", sonuc)"
      ],
      "metadata": {
        "id": "GCvaHhDkTE4M",
        "colab": {
          "base_uri": "https://localhost:8080/"
        },
        "outputId": "20bab046-dde0-4cdc-ab27-561616f3a601"
      },
      "execution_count": null,
      "outputs": [
        {
          "output_type": "stream",
          "name": "stdout",
          "text": [
            "En uzun pozitif alt dizi: [4, 5, 6]\n"
          ]
        }
      ]
    },
    {
      "cell_type": "code",
      "source": [
        "# Dizide negatif sayıları çekip pozitiflerin aynı sırayla yazılması\n",
        "def pick_up_to_ngtv(arr):\n",
        "  return [sayi for sayi in arr if sayi > 0]\n",
        "\n",
        "arr = [1, 2, -3, 4, 5, 6, -7]\n",
        "sonuc = pick_up_to_ngtv(arr)\n",
        "print(sonuc)"
      ],
      "metadata": {
        "id": "PAPHfg-VTE7m",
        "colab": {
          "base_uri": "https://localhost:8080/"
        },
        "outputId": "7a67ae8d-b511-4b82-d6d5-9b9e15f552b9"
      },
      "execution_count": null,
      "outputs": [
        {
          "output_type": "stream",
          "name": "stdout",
          "text": [
            "[1, 2, 4, 5, 6]\n"
          ]
        }
      ]
    },
    {
      "cell_type": "markdown",
      "source": [
        "# **VERİ BİLİMİ ALGORİTMALARI**"
      ],
      "metadata": {
        "id": "KSpjIkB5ixOG"
      }
    },
    {
      "cell_type": "code",
      "source": [
        "# VERİ BİLİMİ ALGORİTMALARI -> not ortalamasının üstünde olan notları bul\n",
        "def mean_calculate(lst):\n",
        "  mean_upper = []\n",
        "  for num in lst:\n",
        "    result = (num+num)/len(lst)\n",
        "    if result in mean_upper:\n",
        "      return mean_upper\n",
        "    mean_upper.append(result)\n",
        "  return mean_upper\n",
        "mean_calculate([65, 70, 85, 90, 75, 60, 95])"
      ],
      "metadata": {
        "id": "ZebgktQNjU-b",
        "colab": {
          "base_uri": "https://localhost:8080/"
        },
        "outputId": "21549dba-a88a-4023-a6b0-db5459b17b7b"
      },
      "execution_count": null,
      "outputs": [
        {
          "output_type": "execute_result",
          "data": {
            "text/plain": [
              "[18.571428571428573,\n",
              " 20.0,\n",
              " 24.285714285714285,\n",
              " 25.714285714285715,\n",
              " 21.428571428571427,\n",
              " 17.142857142857142,\n",
              " 27.142857142857142]"
            ]
          },
          "metadata": {},
          "execution_count": 22
        }
      ]
    },
    {
      "cell_type": "code",
      "source": [
        "def means(lst):\n",
        "  bigger = []\n",
        "  total_sum = sum(lst)\n",
        "  elems = len(lst)\n",
        "  mean = total_sum/elems\n",
        "  for num in lst:\n",
        "    if num > mean:\n",
        "      bigger.append(num)\n",
        "  return bigger\n",
        "means([65, 70, 85, 90, 75, 60, 95])"
      ],
      "metadata": {
        "colab": {
          "base_uri": "https://localhost:8080/"
        },
        "id": "a8wg1hvVbb9O",
        "outputId": "80857f7b-fef4-4b55-d6c7-9e32f8879679"
      },
      "execution_count": null,
      "outputs": [
        {
          "output_type": "execute_result",
          "data": {
            "text/plain": [
              "[85, 90, 95]"
            ]
          },
          "metadata": {},
          "execution_count": 28
        }
      ]
    },
    {
      "cell_type": "code",
      "source": [
        "# MOD Bulma\n",
        "import numpy as np\n",
        "def find_mode(arr):\n",
        "  values, counts = np.unique(arr, return_counts=True) # Benzersiz elemanları ve frekansları al. return_counts işlemi her benzersiz elemanın kaç kez tekrar ettiğini söyler\n",
        "  max_count_index = np.argmax(counts) # Counts yani tekrar sayılarındaki En yüksek frekansı bul\n",
        "  return values[max_count_index] # En çok tekrar eden sayıları verir\n",
        "\n",
        "find_mode([1, 3, 3, 6, 6, 6, 9, 9])"
      ],
      "metadata": {
        "colab": {
          "base_uri": "https://localhost:8080/"
        },
        "id": "gKi4QDYBeJf9",
        "outputId": "79008f60-a435-40df-d05f-3434db4b4cca"
      },
      "execution_count": null,
      "outputs": [
        {
          "output_type": "execute_result",
          "data": {
            "text/plain": [
              "6"
            ]
          },
          "metadata": {},
          "execution_count": 29
        }
      ]
    }
  ]
}